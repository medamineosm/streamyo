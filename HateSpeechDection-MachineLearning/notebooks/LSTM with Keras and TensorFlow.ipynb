{
 "cells": [
  {
   "cell_type": "markdown",
   "metadata": {},
   "source": [
    "This notebook is an attempt to classify the dataset using a neural network with TensorFlow and Keras."
   ]
  },
  {
   "cell_type": "code",
   "execution_count": 1,
   "metadata": {
    "collapsed": true
   },
   "outputs": [],
   "source": [
    "import pandas as pd\n",
    "import seaborn as sns\n",
    "import numpy as np\n",
    "%matplotlib inline\n",
    "from sklearn.model_selection import train_test_split"
   ]
  },
  {
   "cell_type": "code",
   "execution_count": 2,
   "metadata": {
    "collapsed": true
   },
   "outputs": [],
   "source": [
    "data_path = 'twitter-hate-speech.csv'\n",
    "\n",
    "df = pd.read_csv(data_path, encoding='latin1')\n",
    "df = df.rename(columns={'does_this_tweet_contain_hate_speech': 'label',  \n",
    "                        'does_this_tweet_contain_hate_speech:confidence': 'confidence' })"
   ]
  },
  {
   "cell_type": "code",
   "execution_count": 3,
   "metadata": {},
   "outputs": [
    {
     "data": {
      "text/html": [
       "<div>\n",
       "<style>\n",
       "    .dataframe thead tr:only-child th {\n",
       "        text-align: right;\n",
       "    }\n",
       "\n",
       "    .dataframe thead th {\n",
       "        text-align: left;\n",
       "    }\n",
       "\n",
       "    .dataframe tbody tr th {\n",
       "        vertical-align: top;\n",
       "    }\n",
       "</style>\n",
       "<table border=\"1\" class=\"dataframe\">\n",
       "  <thead>\n",
       "    <tr style=\"text-align: right;\">\n",
       "      <th></th>\n",
       "      <th>_unit_id</th>\n",
       "      <th>_golden</th>\n",
       "      <th>_unit_state</th>\n",
       "      <th>_trusted_judgments</th>\n",
       "      <th>_last_judgment_at</th>\n",
       "      <th>label</th>\n",
       "      <th>confidence</th>\n",
       "      <th>_created_at</th>\n",
       "      <th>orig__golden</th>\n",
       "      <th>orig__last_judgment_at</th>\n",
       "      <th>orig__trusted_judgments</th>\n",
       "      <th>orig__unit_id</th>\n",
       "      <th>orig__unit_state</th>\n",
       "      <th>_updated_at</th>\n",
       "      <th>orig_does_this_tweet_contain_hate_speech</th>\n",
       "      <th>does_this_tweet_contain_hate_speech_gold</th>\n",
       "      <th>does_this_tweet_contain_hate_speech_gold_reason</th>\n",
       "      <th>does_this_tweet_contain_hate_speechconfidence</th>\n",
       "      <th>tweet_id</th>\n",
       "      <th>tweet_text</th>\n",
       "    </tr>\n",
       "  </thead>\n",
       "  <tbody>\n",
       "    <tr>\n",
       "      <th>0</th>\n",
       "      <td>853718217</td>\n",
       "      <td>True</td>\n",
       "      <td>golden</td>\n",
       "      <td>86</td>\n",
       "      <td>NaN</td>\n",
       "      <td>The tweet uses offensive language but not hate...</td>\n",
       "      <td>0.6013</td>\n",
       "      <td>NaN</td>\n",
       "      <td>True</td>\n",
       "      <td>NaN</td>\n",
       "      <td>0.0</td>\n",
       "      <td>615561535.0</td>\n",
       "      <td>golden</td>\n",
       "      <td>NaN</td>\n",
       "      <td>The tweet contains hate speech</td>\n",
       "      <td>The tweet contains hate speech\\nThe tweet uses...</td>\n",
       "      <td>NaN</td>\n",
       "      <td>1.0</td>\n",
       "      <td>1.666196e+09</td>\n",
       "      <td>Warning: penny boards will make you a faggot</td>\n",
       "    </tr>\n",
       "    <tr>\n",
       "      <th>1</th>\n",
       "      <td>853718218</td>\n",
       "      <td>True</td>\n",
       "      <td>golden</td>\n",
       "      <td>92</td>\n",
       "      <td>NaN</td>\n",
       "      <td>The tweet contains hate speech</td>\n",
       "      <td>0.7227</td>\n",
       "      <td>NaN</td>\n",
       "      <td>True</td>\n",
       "      <td>NaN</td>\n",
       "      <td>0.0</td>\n",
       "      <td>615561723.0</td>\n",
       "      <td>golden</td>\n",
       "      <td>NaN</td>\n",
       "      <td>The tweet contains hate speech</td>\n",
       "      <td>The tweet contains hate speech\\nThe tweet uses...</td>\n",
       "      <td>NaN</td>\n",
       "      <td>1.0</td>\n",
       "      <td>4.295121e+08</td>\n",
       "      <td>Fuck dykes</td>\n",
       "    </tr>\n",
       "    <tr>\n",
       "      <th>2</th>\n",
       "      <td>853718219</td>\n",
       "      <td>True</td>\n",
       "      <td>golden</td>\n",
       "      <td>86</td>\n",
       "      <td>NaN</td>\n",
       "      <td>The tweet contains hate speech</td>\n",
       "      <td>0.5229</td>\n",
       "      <td>NaN</td>\n",
       "      <td>True</td>\n",
       "      <td>NaN</td>\n",
       "      <td>0.0</td>\n",
       "      <td>615562039.0</td>\n",
       "      <td>golden</td>\n",
       "      <td>NaN</td>\n",
       "      <td>The tweet contains hate speech</td>\n",
       "      <td>The tweet contains hate speech\\nThe tweet uses...</td>\n",
       "      <td>NaN</td>\n",
       "      <td>1.0</td>\n",
       "      <td>3.956238e+08</td>\n",
       "      <td>@sizzurp__ @ILIKECATS74 @yoPapi_chulo @brandon...</td>\n",
       "    </tr>\n",
       "    <tr>\n",
       "      <th>3</th>\n",
       "      <td>853718220</td>\n",
       "      <td>True</td>\n",
       "      <td>golden</td>\n",
       "      <td>98</td>\n",
       "      <td>NaN</td>\n",
       "      <td>The tweet contains hate speech</td>\n",
       "      <td>0.5184</td>\n",
       "      <td>NaN</td>\n",
       "      <td>True</td>\n",
       "      <td>NaN</td>\n",
       "      <td>0.0</td>\n",
       "      <td>615562068.0</td>\n",
       "      <td>golden</td>\n",
       "      <td>NaN</td>\n",
       "      <td>The tweet contains hate speech</td>\n",
       "      <td>The tweet contains hate speech\\nThe tweet uses...</td>\n",
       "      <td>NaN</td>\n",
       "      <td>1.0</td>\n",
       "      <td>4.975147e+08</td>\n",
       "      <td>\"@jayswaggkillah: \"@JacklynAnnn: @jayswaggkill...</td>\n",
       "    </tr>\n",
       "    <tr>\n",
       "      <th>4</th>\n",
       "      <td>853718221</td>\n",
       "      <td>True</td>\n",
       "      <td>golden</td>\n",
       "      <td>88</td>\n",
       "      <td>NaN</td>\n",
       "      <td>The tweet uses offensive language but not hate...</td>\n",
       "      <td>0.5185</td>\n",
       "      <td>NaN</td>\n",
       "      <td>True</td>\n",
       "      <td>NaN</td>\n",
       "      <td>0.0</td>\n",
       "      <td>615562488.0</td>\n",
       "      <td>golden</td>\n",
       "      <td>NaN</td>\n",
       "      <td>The tweet contains hate speech</td>\n",
       "      <td>The tweet contains hate speech\\nThe tweet uses...</td>\n",
       "      <td>NaN</td>\n",
       "      <td>1.0</td>\n",
       "      <td>5.889236e+08</td>\n",
       "      <td>@Zhugstubble You heard me bitch but any way I'...</td>\n",
       "    </tr>\n",
       "  </tbody>\n",
       "</table>\n",
       "</div>"
      ],
      "text/plain": [
       "    _unit_id  _golden _unit_state  _trusted_judgments _last_judgment_at  \\\n",
       "0  853718217     True      golden                  86               NaN   \n",
       "1  853718218     True      golden                  92               NaN   \n",
       "2  853718219     True      golden                  86               NaN   \n",
       "3  853718220     True      golden                  98               NaN   \n",
       "4  853718221     True      golden                  88               NaN   \n",
       "\n",
       "                                               label  confidence  _created_at  \\\n",
       "0  The tweet uses offensive language but not hate...      0.6013          NaN   \n",
       "1                     The tweet contains hate speech      0.7227          NaN   \n",
       "2                     The tweet contains hate speech      0.5229          NaN   \n",
       "3                     The tweet contains hate speech      0.5184          NaN   \n",
       "4  The tweet uses offensive language but not hate...      0.5185          NaN   \n",
       "\n",
       "  orig__golden  orig__last_judgment_at  orig__trusted_judgments  \\\n",
       "0         True                     NaN                      0.0   \n",
       "1         True                     NaN                      0.0   \n",
       "2         True                     NaN                      0.0   \n",
       "3         True                     NaN                      0.0   \n",
       "4         True                     NaN                      0.0   \n",
       "\n",
       "   orig__unit_id orig__unit_state  _updated_at  \\\n",
       "0    615561535.0           golden          NaN   \n",
       "1    615561723.0           golden          NaN   \n",
       "2    615562039.0           golden          NaN   \n",
       "3    615562068.0           golden          NaN   \n",
       "4    615562488.0           golden          NaN   \n",
       "\n",
       "  orig_does_this_tweet_contain_hate_speech  \\\n",
       "0           The tweet contains hate speech   \n",
       "1           The tweet contains hate speech   \n",
       "2           The tweet contains hate speech   \n",
       "3           The tweet contains hate speech   \n",
       "4           The tweet contains hate speech   \n",
       "\n",
       "            does_this_tweet_contain_hate_speech_gold  \\\n",
       "0  The tweet contains hate speech\\nThe tweet uses...   \n",
       "1  The tweet contains hate speech\\nThe tweet uses...   \n",
       "2  The tweet contains hate speech\\nThe tweet uses...   \n",
       "3  The tweet contains hate speech\\nThe tweet uses...   \n",
       "4  The tweet contains hate speech\\nThe tweet uses...   \n",
       "\n",
       "   does_this_tweet_contain_hate_speech_gold_reason  \\\n",
       "0                                              NaN   \n",
       "1                                              NaN   \n",
       "2                                              NaN   \n",
       "3                                              NaN   \n",
       "4                                              NaN   \n",
       "\n",
       "   does_this_tweet_contain_hate_speechconfidence      tweet_id  \\\n",
       "0                                            1.0  1.666196e+09   \n",
       "1                                            1.0  4.295121e+08   \n",
       "2                                            1.0  3.956238e+08   \n",
       "3                                            1.0  4.975147e+08   \n",
       "4                                            1.0  5.889236e+08   \n",
       "\n",
       "                                          tweet_text  \n",
       "0       Warning: penny boards will make you a faggot  \n",
       "1                                         Fuck dykes  \n",
       "2  @sizzurp__ @ILIKECATS74 @yoPapi_chulo @brandon...  \n",
       "3  \"@jayswaggkillah: \"@JacklynAnnn: @jayswaggkill...  \n",
       "4  @Zhugstubble You heard me bitch but any way I'...  "
      ]
     },
     "execution_count": 3,
     "metadata": {},
     "output_type": "execute_result"
    }
   ],
   "source": [
    "df.head()"
   ]
  },
  {
   "cell_type": "code",
   "execution_count": 4,
   "metadata": {
    "collapsed": true
   },
   "outputs": [],
   "source": [
    "data = df[~df['_golden']].dropna(axis=1)"
   ]
  },
  {
   "cell_type": "markdown",
   "metadata": {},
   "source": [
    "# Keras neural network with TensorFlow"
   ]
  },
  {
   "cell_type": "code",
   "execution_count": 5,
   "metadata": {},
   "outputs": [
    {
     "name": "stderr",
     "output_type": "stream",
     "text": [
      "Using TensorFlow backend.\n"
     ]
    }
   ],
   "source": [
    "import os\n",
    "os.environ['KERAS_BACKEND'] = 'tensorflow'\n",
    "import keras"
   ]
  },
  {
   "cell_type": "code",
   "execution_count": 6,
   "metadata": {
    "collapsed": true
   },
   "outputs": [],
   "source": [
    "from keras.preprocessing import sequence\n",
    "from keras.preprocessing.text import text_to_word_sequence, one_hot, Tokenizer\n",
    "from keras.utils import to_categorical\n",
    "\n",
    "from keras.models import Sequential\n",
    "from keras.layers import Dense, Embedding\n",
    "from keras.layers import LSTM\n",
    "\n",
    "from sklearn.metrics import classification_report, confusion_matrix"
   ]
  },
  {
   "cell_type": "code",
   "execution_count": 7,
   "metadata": {
    "collapsed": true
   },
   "outputs": [],
   "source": [
    "X = data['tweet_text'].tolist()\n",
    "\n",
    "# Encode labels\n",
    "mapping = {l: i for i, l in enumerate(sorted(data['label'].unique()))}\n",
    "reverse_mapping = {i: l for l, i in mapping.items()}\n",
    "\n",
    "label_names = sorted(mapping.keys())\n",
    "y = data['label'].map(lambda x: mapping[x])\n",
    "y = to_categorical(y, num_classes=3)\n",
    "\n",
    "X_train, X_test, y_train, y_test = train_test_split(X, y, test_size=0.2, stratify=y, random_state=42)"
   ]
  },
  {
   "cell_type": "code",
   "execution_count": 8,
   "metadata": {},
   "outputs": [
    {
     "name": "stdout",
     "output_type": "stream",
     "text": [
      "X_train shape: (11553, 30)\n",
      "X_test shape: (2889, 30)\n",
      "y_train shape: (11553, 3)\n"
     ]
    }
   ],
   "source": [
    "max_features = 4000\n",
    "maxlen = 30\n",
    "batch_size = 32\n",
    "\n",
    "tokenizer = Tokenizer(num_words=max_features)\n",
    "tokenizer.fit_on_texts(X_train)\n",
    "\n",
    "X_train = tokenizer.texts_to_sequences(X_train)\n",
    "X_test = tokenizer.texts_to_sequences(X_test)\n",
    "\n",
    "X_train = sequence.pad_sequences(X_train, maxlen=maxlen)\n",
    "X_test = sequence.pad_sequences(X_test, maxlen=maxlen)\n",
    "\n",
    "print('X_train shape:', X_train.shape)\n",
    "print('X_test shape:', X_test.shape)\n",
    "print('y_train shape:', y_train.shape)"
   ]
  },
  {
   "cell_type": "code",
   "execution_count": 9,
   "metadata": {},
   "outputs": [
    {
     "name": "stdout",
     "output_type": "stream",
     "text": [
      "_________________________________________________________________\n",
      "Layer (type)                 Output Shape              Param #   \n",
      "=================================================================\n",
      "embedding_1 (Embedding)      (None, None, 128)         512000    \n",
      "_________________________________________________________________\n",
      "lstm_1 (LSTM)                (None, 128)               131584    \n",
      "_________________________________________________________________\n",
      "dense_1 (Dense)              (None, 3)                 387       \n",
      "=================================================================\n",
      "Total params: 643,971\n",
      "Trainable params: 643,971\n",
      "Non-trainable params: 0\n",
      "_________________________________________________________________\n"
     ]
    }
   ],
   "source": [
    "model = Sequential()\n",
    "model.add(Embedding(max_features, 128))\n",
    "model.add(LSTM(128, dropout=0.3, recurrent_dropout=0.2))\n",
    "model.add(Dense(3, activation='sigmoid'))\n",
    "\n",
    "model.compile(loss='categorical_crossentropy',\n",
    "              optimizer='adam',\n",
    "              metrics=['accuracy'])\n",
    "\n",
    "model.summary()"
   ]
  },
  {
   "cell_type": "code",
   "execution_count": 10,
   "metadata": {},
   "outputs": [
    {
     "name": "stdout",
     "output_type": "stream",
     "text": [
      "Train on 11553 samples, validate on 2889 samples\n",
      "Epoch 1/30\n",
      "11553/11553 [==============================] - 21s - loss: 0.6829 - acc: 0.7003 - val_loss: 0.5104 - val_acc: 0.7781\n",
      "Epoch 2/30\n",
      "11553/11553 [==============================] - 16s - loss: 0.4571 - acc: 0.7911 - val_loss: 0.4674 - val_acc: 0.7899\n",
      "Epoch 3/30\n",
      "11553/11553 [==============================] - 16s - loss: 0.3936 - acc: 0.8161 - val_loss: 0.4789 - val_acc: 0.7958\n",
      "Epoch 4/30\n",
      "11553/11553 [==============================] - 18s - loss: 0.3581 - acc: 0.8389 - val_loss: 0.4977 - val_acc: 0.7972\n",
      "Epoch 5/30\n",
      "11553/11553 [==============================] - 16s - loss: 0.3291 - acc: 0.8511 - val_loss: 0.5127 - val_acc: 0.7930\n",
      "Epoch 6/30\n",
      "11553/11553 [==============================] - 16s - loss: 0.3007 - acc: 0.8638 - val_loss: 0.5515 - val_acc: 0.7709\n",
      "Epoch 7/30\n",
      "11553/11553 [==============================] - 16s - loss: 0.2771 - acc: 0.8764 - val_loss: 0.5817 - val_acc: 0.7736\n",
      "Epoch 8/30\n",
      "11553/11553 [==============================] - 16s - loss: 0.2511 - acc: 0.8906 - val_loss: 0.6567 - val_acc: 0.7729\n",
      "Epoch 9/30\n",
      "11553/11553 [==============================] - 16s - loss: 0.2614 - acc: 0.8883 - val_loss: 0.6234 - val_acc: 0.7799\n",
      "Epoch 10/30\n",
      "11553/11553 [==============================] - 16s - loss: 0.2228 - acc: 0.9014 - val_loss: 0.7142 - val_acc: 0.7844\n",
      "Epoch 11/30\n",
      "11553/11553 [==============================] - 17s - loss: 0.2087 - acc: 0.9069 - val_loss: 0.6736 - val_acc: 0.7785\n",
      "Epoch 12/30\n",
      "11553/11553 [==============================] - 17s - loss: 0.1918 - acc: 0.9152 - val_loss: 0.7782 - val_acc: 0.7639\n",
      "Epoch 13/30\n",
      "11553/11553 [==============================] - 18s - loss: 0.1789 - acc: 0.9192 - val_loss: 0.7574 - val_acc: 0.7667\n",
      "Epoch 14/30\n",
      "11553/11553 [==============================] - 18s - loss: 0.1711 - acc: 0.9228 - val_loss: 0.8155 - val_acc: 0.7632\n",
      "Epoch 15/30\n",
      "11553/11553 [==============================] - 18s - loss: 0.1614 - acc: 0.9251 - val_loss: 0.8418 - val_acc: 0.7601\n",
      "Epoch 16/30\n",
      "11553/11553 [==============================] - 19s - loss: 0.1442 - acc: 0.9321 - val_loss: 0.8810 - val_acc: 0.7629\n",
      "Epoch 17/30\n",
      "11553/11553 [==============================] - 17s - loss: 0.1373 - acc: 0.9355 - val_loss: 1.0003 - val_acc: 0.7615\n",
      "Epoch 18/30\n",
      "11553/11553 [==============================] - 16s - loss: 0.1371 - acc: 0.9340 - val_loss: 0.9598 - val_acc: 0.7670\n",
      "Epoch 19/30\n",
      "11553/11553 [==============================] - 17s - loss: 0.1331 - acc: 0.9385 - val_loss: 0.9785 - val_acc: 0.7529\n",
      "Epoch 20/30\n",
      "11553/11553 [==============================] - 16s - loss: 0.1376 - acc: 0.9364 - val_loss: 1.0256 - val_acc: 0.7560\n",
      "Epoch 21/30\n",
      "11553/11553 [==============================] - 16s - loss: 0.1156 - acc: 0.9444 - val_loss: 1.0967 - val_acc: 0.7522\n",
      "Epoch 22/30\n",
      "11553/11553 [==============================] - 16s - loss: 0.1088 - acc: 0.9449 - val_loss: 1.1062 - val_acc: 0.7511\n",
      "Epoch 23/30\n",
      "11553/11553 [==============================] - 17s - loss: 0.1119 - acc: 0.9464 - val_loss: 1.0966 - val_acc: 0.7529\n",
      "Epoch 24/30\n",
      "11553/11553 [==============================] - 17s - loss: 0.1080 - acc: 0.9467 - val_loss: 1.1104 - val_acc: 0.7632\n",
      "Epoch 25/30\n",
      "11553/11553 [==============================] - 16s - loss: 0.1006 - acc: 0.9479 - val_loss: 1.1826 - val_acc: 0.7612\n",
      "Epoch 26/30\n",
      "11553/11553 [==============================] - 16s - loss: 0.0972 - acc: 0.9510 - val_loss: 1.1623 - val_acc: 0.7629\n",
      "Epoch 27/30\n",
      "11553/11553 [==============================] - 16s - loss: 0.0968 - acc: 0.9522 - val_loss: 1.2643 - val_acc: 0.7584\n",
      "Epoch 28/30\n",
      "11553/11553 [==============================] - 15s - loss: 0.0969 - acc: 0.9523 - val_loss: 1.2078 - val_acc: 0.7549\n",
      "Epoch 29/30\n",
      "11553/11553 [==============================] - 15s - loss: 0.0956 - acc: 0.9537 - val_loss: 1.2662 - val_acc: 0.7525\n",
      "Epoch 30/30\n",
      "11553/11553 [==============================] - 16s - loss: 0.0915 - acc: 0.9555 - val_loss: 1.3384 - val_acc: 0.7522\n"
     ]
    }
   ],
   "source": [
    "model.fit(X_train, y_train,\n",
    "          batch_size=batch_size,\n",
    "          epochs=30,\n",
    "          validation_data=(X_test, y_test));"
   ]
  },
  {
   "cell_type": "code",
   "execution_count": 11,
   "metadata": {},
   "outputs": [
    {
     "name": "stdout",
     "output_type": "stream",
     "text": [
      "2880/2889 [============================>.] - ETA: 0s\n",
      "Test score: 1.33836409898 Test accuracy: 0.752163378373\n",
      "\n",
      "              precision    recall  f1-score   support\n",
      "\n",
      "          0       0.45      0.43      0.44       476\n",
      "          1       0.91      0.91      0.91      1451\n",
      "          2       0.67      0.68      0.67       962\n",
      "\n",
      "avg / total       0.75      0.75      0.75      2889\n",
      "\n"
     ]
    },
    {
     "data": {
      "image/png": "[encoded data removed]",
      "text/plain": [
       "<matplotlib.figure.Figure at 0x287992b0>"
      ]
     },
     "metadata": {},
     "output_type": "display_data"
    }
   ],
   "source": [
    "score, acc = model.evaluate(X_test, y_test, batch_size=batch_size)\n",
    "print('\\nTest score:', score, 'Test accuracy:', acc)\n",
    "\n",
    "pred_probas = model.predict(X_test)\n",
    "pred_labels = np.argmax(pred_probas, axis=1)\n",
    "true_labels = np.argmax(y_test, axis=1)\n",
    "print('\\n', classification_report(true_labels, pred_labels))\n",
    "\n",
    "cnf = confusion_matrix(true_labels, pred_labels)\n",
    "sns.heatmap(cnf, annot=True, fmt='d', xticklabels=label_names, yticklabels=label_names, cmap=\"Reds\");"
   ]
  },
  {
   "cell_type": "code",
   "execution_count": null,
   "metadata": {
    "collapsed": true
   },
   "outputs": [],
   "source": []
  }
 ],
 "metadata": {
  "kernelspec": {
   "display_name": "Python 3",
   "language": "python",
   "name": "python3"
  },
  "language_info": {
   "codemirror_mode": {
    "name": "ipython",
    "version": 3
   },
   "file_extension": ".py",
   "mimetype": "text/x-python",
   "name": "python",
   "nbconvert_exporter": "python",
   "pygments_lexer": "ipython3",
   "version": "3.6.2"
  }
 },
 "nbformat": 4,
 "nbformat_minor": 2
}

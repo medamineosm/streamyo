{
 "cells": [
  {
   "cell_type": "markdown",
   "metadata": {},
   "source": [
    "This notebook is an attempt to explore and clean the dataset. There will be a separate notebook on generating features and a third on building a classifier."
   ]
  },
  {
   "cell_type": "code",
   "execution_count": 4,
   "metadata": {},
   "outputs": [],
   "source": [
    "import re\n",
    "import pandas as pd\n",
    "import seaborn as sns\n",
    "import matplotlib.pyplot as plt\n",
    "import numpy as np\n",
    "%matplotlib inline\n",
    "sns.set_style(\"dark\")\n",
    "sns.set_context(\"talk\")"
   ]
  },
  {
   "cell_type": "markdown",
   "metadata": {},
   "source": [
    "The hate speech data that we're going to use was collected by [Davidson et al.](https://aaai.org/ocs/index.php/ICWSM/ICWSM17/paper/view/15665) for their research on hate speech detection. The dataset contains tweets that are labeled as either hate speech, offensive language, or neither. The data were pulled from [Hatebase.org](https://www.hatebase.org/), an organization that collects instances of potential hate speech. The data were then labeled using [CrowdFlower](https://www.crowdflower.com/), which uses non-specialists to clean and label data. Each tweet was reviewed by three or more people and a majority-wins approach was taken when there was disagreement. The dataset is free for anyone to download from [their Github page](https://github.com/t-davidson/hate-speech-and-offensive-language/tree/master/data)."
   ]
  },
  {
   "cell_type": "markdown",
   "metadata": {},
   "source": [
    "People have conflicting definitions of hate speech, but for a project like this, a single definition needs to be agreed upon. For the purposes of this project, the authors defined hate speech as \"Language that is used to express hatred towards a targeted group or is intended to be derogatory, to humiliate, or to insult the members of the group.\""
   ]
  },
  {
   "cell_type": "markdown",
   "metadata": {},
   "source": [
    "## Loading the data"
   ]
  },
  {
   "cell_type": "code",
   "execution_count": 5,
   "metadata": {},
   "outputs": [],
   "source": [
    "path = 'labeled_data.csv'\n",
    "df = pd.read_csv(path, index_col=0)"
   ]
  },
  {
   "cell_type": "markdown",
   "metadata": {},
   "source": [
    "## Exploring the data"
   ]
  },
  {
   "cell_type": "code",
   "execution_count": 6,
   "metadata": {},
   "outputs": [
    {
     "data": {
      "text/html": [
       "<div>\n",
       "<style scoped>\n",
       "    .dataframe tbody tr th:only-of-type {\n",
       "        vertical-align: middle;\n",
       "    }\n",
       "\n",
       "    .dataframe tbody tr th {\n",
       "        vertical-align: top;\n",
       "    }\n",
       "\n",
       "    .dataframe thead th {\n",
       "        text-align: right;\n",
       "    }\n",
       "</style>\n",
       "<table border=\"1\" class=\"dataframe\">\n",
       "  <thead>\n",
       "    <tr style=\"text-align: right;\">\n",
       "      <th></th>\n",
       "      <th>count</th>\n",
       "      <th>hate_speech</th>\n",
       "      <th>offensive_language</th>\n",
       "      <th>neither</th>\n",
       "      <th>class</th>\n",
       "      <th>tweet</th>\n",
       "    </tr>\n",
       "  </thead>\n",
       "  <tbody>\n",
       "    <tr>\n",
       "      <th>0</th>\n",
       "      <td>3</td>\n",
       "      <td>0</td>\n",
       "      <td>0</td>\n",
       "      <td>3</td>\n",
       "      <td>2</td>\n",
       "      <td>!!! RT @mayasolovely: As a woman you shouldn't...</td>\n",
       "    </tr>\n",
       "    <tr>\n",
       "      <th>1</th>\n",
       "      <td>3</td>\n",
       "      <td>0</td>\n",
       "      <td>3</td>\n",
       "      <td>0</td>\n",
       "      <td>1</td>\n",
       "      <td>!!!!! RT @mleew17: boy dats cold...tyga dwn ba...</td>\n",
       "    </tr>\n",
       "    <tr>\n",
       "      <th>2</th>\n",
       "      <td>3</td>\n",
       "      <td>0</td>\n",
       "      <td>3</td>\n",
       "      <td>0</td>\n",
       "      <td>1</td>\n",
       "      <td>!!!!!!! RT @UrKindOfBrand Dawg!!!! RT @80sbaby...</td>\n",
       "    </tr>\n",
       "    <tr>\n",
       "      <th>3</th>\n",
       "      <td>3</td>\n",
       "      <td>0</td>\n",
       "      <td>2</td>\n",
       "      <td>1</td>\n",
       "      <td>1</td>\n",
       "      <td>!!!!!!!!! RT @C_G_Anderson: @viva_based she lo...</td>\n",
       "    </tr>\n",
       "    <tr>\n",
       "      <th>4</th>\n",
       "      <td>6</td>\n",
       "      <td>0</td>\n",
       "      <td>6</td>\n",
       "      <td>0</td>\n",
       "      <td>1</td>\n",
       "      <td>!!!!!!!!!!!!! RT @ShenikaRoberts: The shit you...</td>\n",
       "    </tr>\n",
       "  </tbody>\n",
       "</table>\n",
       "</div>"
      ],
      "text/plain": [
       "   count  hate_speech  offensive_language  neither  class  \\\n",
       "0      3            0                   0        3      2   \n",
       "1      3            0                   3        0      1   \n",
       "2      3            0                   3        0      1   \n",
       "3      3            0                   2        1      1   \n",
       "4      6            0                   6        0      1   \n",
       "\n",
       "                                               tweet  \n",
       "0  !!! RT @mayasolovely: As a woman you shouldn't...  \n",
       "1  !!!!! RT @mleew17: boy dats cold...tyga dwn ba...  \n",
       "2  !!!!!!! RT @UrKindOfBrand Dawg!!!! RT @80sbaby...  \n",
       "3  !!!!!!!!! RT @C_G_Anderson: @viva_based she lo...  \n",
       "4  !!!!!!!!!!!!! RT @ShenikaRoberts: The shit you...  "
      ]
     },
     "execution_count": 6,
     "metadata": {},
     "output_type": "execute_result"
    }
   ],
   "source": [
    "df.head()"
   ]
  },
  {
   "cell_type": "markdown",
   "metadata": {},
   "source": [
    "Here are the meanings of the column values, per the original authors:\n",
    "\n",
    "`count` = number of CrowdFlower users who coded each tweet (min is 3, sometimes more users coded a tweet when judgments were determined to be unreliable by CF).\n",
    "\n",
    "`hate_speech` = number of CF users who judged the tweet to be hate speech.\n",
    "\n",
    "`offensive_language` = number of CF users who judged the tweet to be offensive.\n",
    "\n",
    "`neither` = number of CF users who judged the tweet to be neither offensive nor non-offensive.\n",
    "\n",
    "`class` = class label for majority of CF users. 0 - hate speech 1 - offensive language 2 - neither\n",
    "\n",
    "`tweet` = the actual text of the tweet"
   ]
  },
  {
   "cell_type": "markdown",
   "metadata": {},
   "source": [
    "Let's see how many of each class we have"
   ]
  },
  {
   "cell_type": "code",
   "execution_count": 7,
   "metadata": {},
   "outputs": [
    {
     "data": {
      "image/png": "[encoded data removed]",
      "text/plain": [
       "<Figure size 864x576 with 1 Axes>"
      ]
     },
     "metadata": {},
     "output_type": "display_data"
    }
   ],
   "source": [
    "plt.figure(figsize=(12, 8))\n",
    "ax = sns.countplot(x=\"class\", data=df)\n",
    "plt.title('Distribution of Speech in Dataset')\n",
    "plt.xlabel('') # Don't print \"class\"\n",
    "plt.xticks(np.arange(3), ['Hate speech', 'Offensive language', 'Neither'])\n",
    "\n",
    "# Print the number above each bar\n",
    "for p in ax.patches:\n",
    "    x = p.get_bbox().get_points()[:, 0]\n",
    "    y = int(p.get_bbox().get_points()[1, 1])\n",
    "    ax.annotate(y, (x.mean(), y), \n",
    "            ha='center', va='bottom')\n"
   ]
  },
  {
   "cell_type": "markdown",
   "metadata": {},
   "source": [
    "Note the unusual distribution of types of text. Because all of the tweets were pulled from HateBase, hate speech and offensive language is going to be significantly over-represented, as we see above."
   ]
  },
  {
   "cell_type": "markdown",
   "metadata": {},
   "source": [
    "Let's see how much agreement there was. We'll check if any were called hate speech by at least one person and neither by at least one other."
   ]
  },
  {
   "cell_type": "code",
   "execution_count": 8,
   "metadata": {},
   "outputs": [
    {
     "data": {
      "text/html": [
       "<div>\n",
       "<style scoped>\n",
       "    .dataframe tbody tr th:only-of-type {\n",
       "        vertical-align: middle;\n",
       "    }\n",
       "\n",
       "    .dataframe tbody tr th {\n",
       "        vertical-align: top;\n",
       "    }\n",
       "\n",
       "    .dataframe thead th {\n",
       "        text-align: right;\n",
       "    }\n",
       "</style>\n",
       "<table border=\"1\" class=\"dataframe\">\n",
       "  <thead>\n",
       "    <tr style=\"text-align: right;\">\n",
       "      <th></th>\n",
       "      <th>count</th>\n",
       "      <th>hate_speech</th>\n",
       "      <th>offensive_language</th>\n",
       "      <th>neither</th>\n",
       "      <th>class</th>\n",
       "      <th>tweet</th>\n",
       "    </tr>\n",
       "  </thead>\n",
       "  <tbody>\n",
       "    <tr>\n",
       "      <th>7164</th>\n",
       "      <td>3</td>\n",
       "      <td>2</td>\n",
       "      <td>0</td>\n",
       "      <td>1</td>\n",
       "      <td>0</td>\n",
       "      <td>@saraelizabethj4 that's what happens when you ...</td>\n",
       "    </tr>\n",
       "    <tr>\n",
       "      <th>4702</th>\n",
       "      <td>6</td>\n",
       "      <td>1</td>\n",
       "      <td>1</td>\n",
       "      <td>4</td>\n",
       "      <td>2</td>\n",
       "      <td>@RonanFarrow Yeah we know about Anglo-American...</td>\n",
       "    </tr>\n",
       "    <tr>\n",
       "      <th>6319</th>\n",
       "      <td>3</td>\n",
       "      <td>1</td>\n",
       "      <td>0</td>\n",
       "      <td>2</td>\n",
       "      <td>2</td>\n",
       "      <td>@iamkrause \\nI ain't never orderin from no col...</td>\n",
       "    </tr>\n",
       "    <tr>\n",
       "      <th>13098</th>\n",
       "      <td>6</td>\n",
       "      <td>1</td>\n",
       "      <td>0</td>\n",
       "      <td>5</td>\n",
       "      <td>2</td>\n",
       "      <td>Maybe @barackobama is colored blind with his '...</td>\n",
       "    </tr>\n",
       "    <tr>\n",
       "      <th>3576</th>\n",
       "      <td>6</td>\n",
       "      <td>1</td>\n",
       "      <td>4</td>\n",
       "      <td>1</td>\n",
       "      <td>1</td>\n",
       "      <td>@ImASpiderG you a bitch nigga</td>\n",
       "    </tr>\n",
       "    <tr>\n",
       "      <th>7562</th>\n",
       "      <td>3</td>\n",
       "      <td>2</td>\n",
       "      <td>0</td>\n",
       "      <td>1</td>\n",
       "      <td>0</td>\n",
       "      <td>@yawlknow @HoskinsTy96 \"all of these rednecks ...</td>\n",
       "    </tr>\n",
       "    <tr>\n",
       "      <th>3700</th>\n",
       "      <td>3</td>\n",
       "      <td>1</td>\n",
       "      <td>0</td>\n",
       "      <td>2</td>\n",
       "      <td>2</td>\n",
       "      <td>@JamesdaJewison &amp;lt;&amp;lt;BEST NAME ON TWITTER E...</td>\n",
       "    </tr>\n",
       "    <tr>\n",
       "      <th>22618</th>\n",
       "      <td>3</td>\n",
       "      <td>1</td>\n",
       "      <td>0</td>\n",
       "      <td>2</td>\n",
       "      <td>2</td>\n",
       "      <td>This target is ghetto, but whatever</td>\n",
       "    </tr>\n",
       "    <tr>\n",
       "      <th>8029</th>\n",
       "      <td>3</td>\n",
       "      <td>1</td>\n",
       "      <td>0</td>\n",
       "      <td>2</td>\n",
       "      <td>2</td>\n",
       "      <td>Aren't these little border jumpers supposed to...</td>\n",
       "    </tr>\n",
       "    <tr>\n",
       "      <th>21963</th>\n",
       "      <td>3</td>\n",
       "      <td>1</td>\n",
       "      <td>0</td>\n",
       "      <td>2</td>\n",
       "      <td>2</td>\n",
       "      <td>The Perfect Gift for the Jihadi on Your Shoppi...</td>\n",
       "    </tr>\n",
       "    <tr>\n",
       "      <th>12156</th>\n",
       "      <td>3</td>\n",
       "      <td>1</td>\n",
       "      <td>0</td>\n",
       "      <td>2</td>\n",
       "      <td>2</td>\n",
       "      <td>Is dare any colored players in hockey?</td>\n",
       "    </tr>\n",
       "    <tr>\n",
       "      <th>21117</th>\n",
       "      <td>6</td>\n",
       "      <td>2</td>\n",
       "      <td>3</td>\n",
       "      <td>1</td>\n",
       "      <td>1</td>\n",
       "      <td>Seeing elder queer couples marry really is emo...</td>\n",
       "    </tr>\n",
       "    <tr>\n",
       "      <th>4961</th>\n",
       "      <td>3</td>\n",
       "      <td>1</td>\n",
       "      <td>0</td>\n",
       "      <td>2</td>\n",
       "      <td>2</td>\n",
       "      <td>@THEHermanCain then send this one to your teab...</td>\n",
       "    </tr>\n",
       "    <tr>\n",
       "      <th>14147</th>\n",
       "      <td>6</td>\n",
       "      <td>1</td>\n",
       "      <td>2</td>\n",
       "      <td>3</td>\n",
       "      <td>2</td>\n",
       "      <td>Perhaps Ezra Miller is the first crack toward ...</td>\n",
       "    </tr>\n",
       "    <tr>\n",
       "      <th>16113</th>\n",
       "      <td>6</td>\n",
       "      <td>2</td>\n",
       "      <td>0</td>\n",
       "      <td>4</td>\n",
       "      <td>2</td>\n",
       "      <td>RT @JamesOKeefeIII: Denver TV airs clip of dig...</td>\n",
       "    </tr>\n",
       "    <tr>\n",
       "      <th>21974</th>\n",
       "      <td>3</td>\n",
       "      <td>1</td>\n",
       "      <td>0</td>\n",
       "      <td>2</td>\n",
       "      <td>2</td>\n",
       "      <td>The Wayans bros is the most retarded show ever.</td>\n",
       "    </tr>\n",
       "    <tr>\n",
       "      <th>13778</th>\n",
       "      <td>6</td>\n",
       "      <td>1</td>\n",
       "      <td>3</td>\n",
       "      <td>2</td>\n",
       "      <td>1</td>\n",
       "      <td>Not just exist, but contribute. And contribute...</td>\n",
       "    </tr>\n",
       "    <tr>\n",
       "      <th>19789</th>\n",
       "      <td>3</td>\n",
       "      <td>1</td>\n",
       "      <td>0</td>\n",
       "      <td>2</td>\n",
       "      <td>2</td>\n",
       "      <td>RT @jgalt666: Don't let a crisis go to waste.D...</td>\n",
       "    </tr>\n",
       "    <tr>\n",
       "      <th>23387</th>\n",
       "      <td>3</td>\n",
       "      <td>1</td>\n",
       "      <td>0</td>\n",
       "      <td>2</td>\n",
       "      <td>2</td>\n",
       "      <td>Why won't we run the ball? Our offensive coord...</td>\n",
       "    </tr>\n",
       "    <tr>\n",
       "      <th>24600</th>\n",
       "      <td>3</td>\n",
       "      <td>2</td>\n",
       "      <td>0</td>\n",
       "      <td>1</td>\n",
       "      <td>0</td>\n",
       "      <td>it means that im following orders and being su...</td>\n",
       "    </tr>\n",
       "  </tbody>\n",
       "</table>\n",
       "</div>"
      ],
      "text/plain": [
       "       count  hate_speech  offensive_language  neither  class  \\\n",
       "7164       3            2                   0        1      0   \n",
       "4702       6            1                   1        4      2   \n",
       "6319       3            1                   0        2      2   \n",
       "13098      6            1                   0        5      2   \n",
       "3576       6            1                   4        1      1   \n",
       "7562       3            2                   0        1      0   \n",
       "3700       3            1                   0        2      2   \n",
       "22618      3            1                   0        2      2   \n",
       "8029       3            1                   0        2      2   \n",
       "21963      3            1                   0        2      2   \n",
       "12156      3            1                   0        2      2   \n",
       "21117      6            2                   3        1      1   \n",
       "4961       3            1                   0        2      2   \n",
       "14147      6            1                   2        3      2   \n",
       "16113      6            2                   0        4      2   \n",
       "21974      3            1                   0        2      2   \n",
       "13778      6            1                   3        2      1   \n",
       "19789      3            1                   0        2      2   \n",
       "23387      3            1                   0        2      2   \n",
       "24600      3            2                   0        1      0   \n",
       "\n",
       "                                                   tweet  \n",
       "7164   @saraelizabethj4 that's what happens when you ...  \n",
       "4702   @RonanFarrow Yeah we know about Anglo-American...  \n",
       "6319   @iamkrause \\nI ain't never orderin from no col...  \n",
       "13098  Maybe @barackobama is colored blind with his '...  \n",
       "3576                       @ImASpiderG you a bitch nigga  \n",
       "7562   @yawlknow @HoskinsTy96 \"all of these rednecks ...  \n",
       "3700   @JamesdaJewison &lt;&lt;BEST NAME ON TWITTER E...  \n",
       "22618                This target is ghetto, but whatever  \n",
       "8029   Aren't these little border jumpers supposed to...  \n",
       "21963  The Perfect Gift for the Jihadi on Your Shoppi...  \n",
       "12156             Is dare any colored players in hockey?  \n",
       "21117  Seeing elder queer couples marry really is emo...  \n",
       "4961   @THEHermanCain then send this one to your teab...  \n",
       "14147  Perhaps Ezra Miller is the first crack toward ...  \n",
       "16113  RT @JamesOKeefeIII: Denver TV airs clip of dig...  \n",
       "21974    The Wayans bros is the most retarded show ever.  \n",
       "13778  Not just exist, but contribute. And contribute...  \n",
       "19789  RT @jgalt666: Don't let a crisis go to waste.D...  \n",
       "23387  Why won't we run the ball? Our offensive coord...  \n",
       "24600  it means that im following orders and being su...  "
      ]
     },
     "execution_count": 8,
     "metadata": {},
     "output_type": "execute_result"
    }
   ],
   "source": [
    "hate_neither = df[(df['hate_speech'] != 0) & (df['neither'] != 0)]\n",
    "hate_neither.sample(20)"
   ]
  },
  {
   "cell_type": "markdown",
   "metadata": {},
   "source": [
    "There's a fair amount of disagreement, including some tweets that were marked by at least one person as being in every category."
   ]
  },
  {
   "cell_type": "markdown",
   "metadata": {},
   "source": [
    "This suggests that Bayes error will be relatively high for this dataset. It would be hard to get a good estimate of that, but we can see how many tweets were unanimously agreed upon. This should give a decent baseline for a classifier."
   ]
  },
  {
   "cell_type": "code",
   "execution_count": 9,
   "metadata": {},
   "outputs": [],
   "source": [
    "all_three = df[(df['hate_speech'] != 0) & (df['neither'] != 0) & (df['offensive_language'] != 0)]\n",
    "hate_offensive = df[(df['hate_speech'] != 0) & (df['offensive_language'] != 0)]\n",
    "offensive_neither = df[(df['neither'] != 0) & (df['offensive_language'] != 0)]"
   ]
  },
  {
   "cell_type": "code",
   "execution_count": 10,
   "metadata": {},
   "outputs": [],
   "source": [
    "all_multiple = pd.concat([hate_neither, hate_offensive, offensive_neither]).drop_duplicates()"
   ]
  },
  {
   "cell_type": "code",
   "execution_count": 11,
   "metadata": {},
   "outputs": [
    {
     "data": {
      "text/html": [
       "<div>\n",
       "<style scoped>\n",
       "    .dataframe tbody tr th:only-of-type {\n",
       "        vertical-align: middle;\n",
       "    }\n",
       "\n",
       "    .dataframe tbody tr th {\n",
       "        vertical-align: top;\n",
       "    }\n",
       "\n",
       "    .dataframe thead th {\n",
       "        text-align: right;\n",
       "    }\n",
       "</style>\n",
       "<table border=\"1\" class=\"dataframe\">\n",
       "  <thead>\n",
       "    <tr style=\"text-align: right;\">\n",
       "      <th></th>\n",
       "      <th>count</th>\n",
       "      <th>hate_speech</th>\n",
       "      <th>offensive_language</th>\n",
       "      <th>neither</th>\n",
       "      <th>class</th>\n",
       "      <th>tweet</th>\n",
       "    </tr>\n",
       "  </thead>\n",
       "  <tbody>\n",
       "    <tr>\n",
       "      <th>9506</th>\n",
       "      <td>3</td>\n",
       "      <td>1</td>\n",
       "      <td>2</td>\n",
       "      <td>0</td>\n",
       "      <td>1</td>\n",
       "      <td>Fuck dat bitch</td>\n",
       "    </tr>\n",
       "    <tr>\n",
       "      <th>8717</th>\n",
       "      <td>3</td>\n",
       "      <td>1</td>\n",
       "      <td>2</td>\n",
       "      <td>0</td>\n",
       "      <td>1</td>\n",
       "      <td>Citi field bitches http://t.co/gHxXmb3M</td>\n",
       "    </tr>\n",
       "    <tr>\n",
       "      <th>8293</th>\n",
       "      <td>3</td>\n",
       "      <td>1</td>\n",
       "      <td>2</td>\n",
       "      <td>0</td>\n",
       "      <td>1</td>\n",
       "      <td>Bitches be like im nt beefing over a niggah smh</td>\n",
       "    </tr>\n",
       "    <tr>\n",
       "      <th>19107</th>\n",
       "      <td>3</td>\n",
       "      <td>1</td>\n",
       "      <td>2</td>\n",
       "      <td>0</td>\n",
       "      <td>1</td>\n",
       "      <td>RT @brittanyaflores: you got niggas &amp;amp; I go...</td>\n",
       "    </tr>\n",
       "    <tr>\n",
       "      <th>19918</th>\n",
       "      <td>3</td>\n",
       "      <td>1</td>\n",
       "      <td>2</td>\n",
       "      <td>0</td>\n",
       "      <td>1</td>\n",
       "      <td>RT @laceeybugg: @hedge_brandon you're such a q...</td>\n",
       "    </tr>\n",
       "    <tr>\n",
       "      <th>2839</th>\n",
       "      <td>6</td>\n",
       "      <td>0</td>\n",
       "      <td>5</td>\n",
       "      <td>1</td>\n",
       "      <td>1</td>\n",
       "      <td>@CapoDaAssHole naw where can I see that hoe at</td>\n",
       "    </tr>\n",
       "    <tr>\n",
       "      <th>25003</th>\n",
       "      <td>3</td>\n",
       "      <td>0</td>\n",
       "      <td>2</td>\n",
       "      <td>1</td>\n",
       "      <td>1</td>\n",
       "      <td>that hoe aint there anymore</td>\n",
       "    </tr>\n",
       "    <tr>\n",
       "      <th>10690</th>\n",
       "      <td>3</td>\n",
       "      <td>1</td>\n",
       "      <td>2</td>\n",
       "      <td>0</td>\n",
       "      <td>1</td>\n",
       "      <td>I had a date wit Irene nd that bitch stood me ...</td>\n",
       "    </tr>\n",
       "    <tr>\n",
       "      <th>3266</th>\n",
       "      <td>6</td>\n",
       "      <td>4</td>\n",
       "      <td>1</td>\n",
       "      <td>1</td>\n",
       "      <td>0</td>\n",
       "      <td>@Flow935 jus wanted to let y&amp;#225;ll know hope...</td>\n",
       "    </tr>\n",
       "    <tr>\n",
       "      <th>15940</th>\n",
       "      <td>3</td>\n",
       "      <td>0</td>\n",
       "      <td>1</td>\n",
       "      <td>2</td>\n",
       "      <td>2</td>\n",
       "      <td>RT @I_Be_kOoLz Food be good...except that rice...</td>\n",
       "    </tr>\n",
       "    <tr>\n",
       "      <th>18396</th>\n",
       "      <td>3</td>\n",
       "      <td>1</td>\n",
       "      <td>2</td>\n",
       "      <td>0</td>\n",
       "      <td>1</td>\n",
       "      <td>RT @VillageBae: Don't block me because you thi...</td>\n",
       "    </tr>\n",
       "    <tr>\n",
       "      <th>16533</th>\n",
       "      <td>3</td>\n",
       "      <td>0</td>\n",
       "      <td>1</td>\n",
       "      <td>2</td>\n",
       "      <td>2</td>\n",
       "      <td>RT @LeMarquand: &amp;#8252;&amp;#65039;Muslim group sl...</td>\n",
       "    </tr>\n",
       "    <tr>\n",
       "      <th>8903</th>\n",
       "      <td>3</td>\n",
       "      <td>0</td>\n",
       "      <td>2</td>\n",
       "      <td>1</td>\n",
       "      <td>1</td>\n",
       "      <td>Dawg ass hoes</td>\n",
       "    </tr>\n",
       "    <tr>\n",
       "      <th>3679</th>\n",
       "      <td>3</td>\n",
       "      <td>0</td>\n",
       "      <td>2</td>\n",
       "      <td>1</td>\n",
       "      <td>1</td>\n",
       "      <td>@J_Fritzy @vivaalakatyy @Lompartayy @brotherbi...</td>\n",
       "    </tr>\n",
       "    <tr>\n",
       "      <th>20788</th>\n",
       "      <td>6</td>\n",
       "      <td>1</td>\n",
       "      <td>5</td>\n",
       "      <td>0</td>\n",
       "      <td>1</td>\n",
       "      <td>RT @worley_7: Enough with the mind fuck and pa...</td>\n",
       "    </tr>\n",
       "    <tr>\n",
       "      <th>11213</th>\n",
       "      <td>3</td>\n",
       "      <td>0</td>\n",
       "      <td>2</td>\n",
       "      <td>1</td>\n",
       "      <td>1</td>\n",
       "      <td>I swear these hoes *aint got nothing on you * ...</td>\n",
       "    </tr>\n",
       "    <tr>\n",
       "      <th>4245</th>\n",
       "      <td>3</td>\n",
       "      <td>2</td>\n",
       "      <td>1</td>\n",
       "      <td>0</td>\n",
       "      <td>0</td>\n",
       "      <td>@MillerLite I don't follow you because everyth...</td>\n",
       "    </tr>\n",
       "    <tr>\n",
       "      <th>6022</th>\n",
       "      <td>3</td>\n",
       "      <td>0</td>\n",
       "      <td>2</td>\n",
       "      <td>1</td>\n",
       "      <td>1</td>\n",
       "      <td>@discordianslip If you say one disparaging wor...</td>\n",
       "    </tr>\n",
       "    <tr>\n",
       "      <th>22442</th>\n",
       "      <td>3</td>\n",
       "      <td>1</td>\n",
       "      <td>2</td>\n",
       "      <td>0</td>\n",
       "      <td>1</td>\n",
       "      <td>This bitch is stupid. -.-; Anti Feminist: http...</td>\n",
       "    </tr>\n",
       "    <tr>\n",
       "      <th>16836</th>\n",
       "      <td>3</td>\n",
       "      <td>1</td>\n",
       "      <td>2</td>\n",
       "      <td>0</td>\n",
       "      <td>1</td>\n",
       "      <td>RT @MikeDiggEm: Only ugly girls can fight. Pre...</td>\n",
       "    </tr>\n",
       "  </tbody>\n",
       "</table>\n",
       "</div>"
      ],
      "text/plain": [
       "       count  hate_speech  offensive_language  neither  class  \\\n",
       "9506       3            1                   2        0      1   \n",
       "8717       3            1                   2        0      1   \n",
       "8293       3            1                   2        0      1   \n",
       "19107      3            1                   2        0      1   \n",
       "19918      3            1                   2        0      1   \n",
       "2839       6            0                   5        1      1   \n",
       "25003      3            0                   2        1      1   \n",
       "10690      3            1                   2        0      1   \n",
       "3266       6            4                   1        1      0   \n",
       "15940      3            0                   1        2      2   \n",
       "18396      3            1                   2        0      1   \n",
       "16533      3            0                   1        2      2   \n",
       "8903       3            0                   2        1      1   \n",
       "3679       3            0                   2        1      1   \n",
       "20788      6            1                   5        0      1   \n",
       "11213      3            0                   2        1      1   \n",
       "4245       3            2                   1        0      0   \n",
       "6022       3            0                   2        1      1   \n",
       "22442      3            1                   2        0      1   \n",
       "16836      3            1                   2        0      1   \n",
       "\n",
       "                                                   tweet  \n",
       "9506                                      Fuck dat bitch  \n",
       "8717             Citi field bitches http://t.co/gHxXmb3M  \n",
       "8293     Bitches be like im nt beefing over a niggah smh  \n",
       "19107  RT @brittanyaflores: you got niggas &amp; I go...  \n",
       "19918  RT @laceeybugg: @hedge_brandon you're such a q...  \n",
       "2839      @CapoDaAssHole naw where can I see that hoe at  \n",
       "25003                        that hoe aint there anymore  \n",
       "10690  I had a date wit Irene nd that bitch stood me ...  \n",
       "3266   @Flow935 jus wanted to let y&#225;ll know hope...  \n",
       "15940  RT @I_Be_kOoLz Food be good...except that rice...  \n",
       "18396  RT @VillageBae: Don't block me because you thi...  \n",
       "16533  RT @LeMarquand: &#8252;&#65039;Muslim group sl...  \n",
       "8903                                       Dawg ass hoes  \n",
       "3679   @J_Fritzy @vivaalakatyy @Lompartayy @brotherbi...  \n",
       "20788  RT @worley_7: Enough with the mind fuck and pa...  \n",
       "11213  I swear these hoes *aint got nothing on you * ...  \n",
       "4245   @MillerLite I don't follow you because everyth...  \n",
       "6022   @discordianslip If you say one disparaging wor...  \n",
       "22442  This bitch is stupid. -.-; Anti Feminist: http...  \n",
       "16836  RT @MikeDiggEm: Only ugly girls can fight. Pre...  "
      ]
     },
     "execution_count": 11,
     "metadata": {},
     "output_type": "execute_result"
    }
   ],
   "source": [
    "all_multiple.sample(20)"
   ]
  },
  {
   "cell_type": "markdown",
   "metadata": {},
   "source": [
    "Let's look at how many were unanimous"
   ]
  },
  {
   "cell_type": "code",
   "execution_count": 12,
   "metadata": {},
   "outputs": [
    {
     "name": "stdout",
     "output_type": "stream",
     "text": [
      "29.5% of the samples were disputed. 70.5% were unanimous.\n"
     ]
    }
   ],
   "source": [
    "disputed = len(all_multiple)/len(df)\n",
    "print(\"{disputed:.1%} of the samples were disputed. {unanimous:.1%} were unanimous.\".format(disputed=disputed, unanimous=1-disputed))"
   ]
  },
  {
   "cell_type": "markdown",
   "metadata": {},
   "source": [
    "This gives us a good idea for how well we'll be able to do. Even a \"great\" classifier likely won't agree with the majority all of the time, as 29.5% of the samples had at least one dissenting opinion. This isn't quite Bayes error because it shows any disagreement, but it gives an idea that this won't be easy."
   ]
  },
  {
   "cell_type": "markdown",
   "metadata": {},
   "source": [
    "### Tweets"
   ]
  },
  {
   "cell_type": "markdown",
   "metadata": {},
   "source": [
    "Let's look in more detail at the tweets."
   ]
  },
  {
   "cell_type": "code",
   "execution_count": 13,
   "metadata": {},
   "outputs": [],
   "source": [
    "# Stop pandas from truncating text\n",
    "pd.set_option('display.max_colwidth', -1)"
   ]
  },
  {
   "cell_type": "code",
   "execution_count": 14,
   "metadata": {
    "scrolled": true
   },
   "outputs": [
    {
     "data": {
      "text/plain": [
       "4251     @Misplaced_Momma \\nHello dare momma. I show glad dat u follow me. U lbe screamin hot in dem pitchers. \\nYou eva b wit colored men?                        \n",
       "15438    RT @DymondMarie1: Shoutout to your main bitch !                                                                                                           \n",
       "16926    RT @MsKeeKee90s: Throw it up! Like a pizza! Get stirring in that pussy like a feature &#128514;&#128514;&#128514; @t_ndyy @PamiiBabesh                    \n",
       "4399     @Nien_Nunb what did you search? Gay redneck episode 1 play?                                                                                               \n",
       "4380     @Ncoleycole u still a mutt tho lol                                                                                                                        \n",
       "4998     @Taylor_Simonee you have your nips pierced too ?! &#127806;&#128064;&#127806;                                                                             \n",
       "17363    RT @QuinTheGreat: &#8220;@Lucki_Starr: When you accidentally say \"About a week ago\" http://t.co/JHBQhPUP2m&#8221; bitch u just wanted to show Ya ass smh  \n",
       "6795     @lybr3 and yes.THAT was very ghetto and condescending ESPECIALLY after her miserably failed crappy school lunch initiative. The Hypocrite                 \n",
       "9193     Endless but they really trash so none RT @Whoa_Kimbosabe: Men: how many positive(s) and possibles do y'all have on fri thru sun night?                    \n",
       "23694    You NEED an iPhone to use their stupid watch? Apple is just grabbing people ankles and shaking the money out of rubes pockets.                            \n",
       "11900    If yer gonna continue to be a contrarian bitch... go die then. I've no time for such trifling!                                                            \n",
       "2727     @Brandi_Nicolee get that degree first bitch                                                                                                               \n",
       "22597    This old bitch with floppy tits riding on the elevator with me is nerping so bad                                                                          \n",
       "2988     @Cuauhtli02 I couldn't find the regular one faggot                                                                                                        \n",
       "17629    RT @SenorSteez: Man, now these hoes know &#128514;&#128176;&#128182;&#128184; #TheJigIsUp http://t.co/8W9Ag3bx1a                                          \n",
       "10026    Headed straight to the top bitch.                                                                                                                         \n",
       "13372    My homeboy got a hoe number on house arrest ... i said that's good she won't ask to go anywhere                                                           \n",
       "2652     @Big_Jim777 bitch                                                                                                                                         \n",
       "1991     &#8220;@wizkhalifa: On the east coast there's colored hair everywhere. \\n\\nThis must be the sweetest wave ever.&#8221; @LayaFace                          \n",
       "18977    RT @anilkohli54: @mediacrooks so the ball did roll down the slope &amp; found a natural spot @madhutrehan defending brother &amp; the scumbag @sard&#8230;\n",
       "Name: tweet, dtype: object"
      ]
     },
     "execution_count": 14,
     "metadata": {},
     "output_type": "execute_result"
    }
   ],
   "source": [
    "df['tweet'].sample(20, random_state=0)"
   ]
  },
  {
   "cell_type": "markdown",
   "metadata": {},
   "source": [
    "## Cleaning the data"
   ]
  },
  {
   "cell_type": "markdown",
   "metadata": {},
   "source": [
    "We could clean this out by removing URLs and mentions, but we'll leave hashtags in. Looks like there are also emojis, like this &#128557;, that have been replace with text strings like like this `&#128557;`. We'll remove those too. We'll come up with regexes to remove them.\n",
    "\n",
    "It looks like there's also a ampersand issue. We'll fix that too."
   ]
  },
  {
   "cell_type": "code",
   "execution_count": 15,
   "metadata": {},
   "outputs": [],
   "source": [
    "url_regex = ('http[s]?://(?:[a-zA-Z]|[0-9]|[$-_@.&+]|'\n",
    "        '[!*\\(\\),]|(?:%[0-9a-fA-F][0-9a-fA-F]))+')\n",
    "mention_regex = '@[\\w\\-]+'\n",
    "emoji_regex = '&#\\d*;'\n",
    "amp_regex = '&amp;'"
   ]
  },
  {
   "cell_type": "code",
   "execution_count": 16,
   "metadata": {},
   "outputs": [
    {
     "data": {
      "text/plain": [
       "10369    I can hear birds outside!!!                                                                                                                                     \n",
       "19855    RT @kep0ne: @quanb24 you bitch ass nigga                                                                                                                        \n",
       "19264    RT @darahkcarter: I don't have a key to my car that bitch foreign &#128080;                                                                                     \n",
       "14892    RT @BurgerKing: Chicken Fries. @Oreo Shake. Perfection. http://t.co/PdiGLRbhJZ                                                                                  \n",
       "1495     &#8220;@PlMPCESS: In the fashion world \"urban\" means \"stolen from black people\" its ghetto on us, and urban on them haha http://t.co/S0XWGfLJ9C&#8221; &#128588;\n",
       "9789     Got all the black bitches mad cuz my main bitch vanilla                                                                                                         \n",
       "1756     &#8220;@clzcdxx: im just a bitch ass elf&#8221; @MorbidMermaid                                                                                                  \n",
       "18360    RT @UsGEMINIS: #Gemini doesn't really look back at their ex's. Some things just look better in the trash!!                                                      \n",
       "23530    Y'all saw how mad that little chunky boy was? He wouldn't even let his dad touch him, bruh lmao                                                                 \n",
       "16685    RT @LuvPug: If you don't RT cat tweets, you're just a big pussy                                                                                                 \n",
       "8524     Calling it am early night heartache is a bitch #broken                                                                                                          \n",
       "23904    You see you? You a bitch you.... Talk shit nigga you'll get ya issue!!                                                                                          \n",
       "8017     Apparently I got chunky for my bday. Worse bday present ever. Lol. \\n#diettime                                                                                  \n",
       "20844    RT @yasminmarie23: When you realize you got no hoes http://t.co/s5YVAv8G7l                                                                                      \n",
       "413      \"@whoiscoreyking: Chase money &#128176; not &#128581; hoes &#128111; &#128175;&#128175;\"&#58399;&#58399;&#58399;&#58399;                                        \n",
       "22393    This ain't no mf http://t.co/dOOeogiROg bitch ass.                                                                                                              \n",
       "22825    U wanna piss a hoe off when u in the club &amp; she in front U Tryna dance for u do what I'm doing right now Tweet                                              \n",
       "11598    I'm just saying, in your twitter pic you look like such a guido and i love it #pattyfuckingboges                                                                \n",
       "17017    RT @NewzHuddle: Y'all niggas ain't low tho. Y'all really be comin at these bitches on here then when they curve u, u act like u was playing&#8230;              \n",
       "16870    RT @Mmadifresh: Still wishin all of my old hoes the best                                                                                                        \n",
       "Name: tweet, dtype: object"
      ]
     },
     "execution_count": 16,
     "metadata": {},
     "output_type": "execute_result"
    }
   ],
   "source": [
    "text = df['tweet'].sample(20)\n",
    "text"
   ]
  },
  {
   "cell_type": "code",
   "execution_count": 17,
   "metadata": {},
   "outputs": [],
   "source": [
    "def clean_text(text):\n",
    "    text = re.sub(url_regex, 'URLHERE', text)\n",
    "    text = re.sub(mention_regex, 'MENTIONHERE', text)\n",
    "    text = re.sub(emoji_regex, ' EMOJIHERE ', text)\n",
    "    text = re.sub(amp_regex, '&', text)\n",
    "    return text"
   ]
  },
  {
   "cell_type": "code",
   "execution_count": 18,
   "metadata": {},
   "outputs": [],
   "source": [
    "df['clean'] = df['tweet'].apply(clean_text)"
   ]
  },
  {
   "cell_type": "code",
   "execution_count": 19,
   "metadata": {},
   "outputs": [
    {
     "data": {
      "text/plain": [
       "4251     MENTIONHERE \\nHello dare momma. I show glad dat u follow me. U lbe screamin hot in dem pitchers. \\nYou eva b wit colored men?                            \n",
       "15438    RT MENTIONHERE: Shoutout to your main bitch !                                                                                                            \n",
       "16926    RT MENTIONHERE: Throw it up! Like a pizza! Get stirring in that pussy like a feature  EMOJIHERE  EMOJIHERE  EMOJIHERE  MENTIONHERE MENTIONHERE           \n",
       "4399     MENTIONHERE what did you search? Gay redneck episode 1 play?                                                                                             \n",
       "4380     MENTIONHERE u still a mutt tho lol                                                                                                                       \n",
       "4998     MENTIONHERE you have your nips pierced too ?!  EMOJIHERE  EMOJIHERE  EMOJIHERE                                                                           \n",
       "17363    RT MENTIONHERE:  EMOJIHERE MENTIONHERE: When you accidentally say \"About a week ago\" URLHERE#8221; bitch u just wanted to show Ya ass smh                \n",
       "6795     MENTIONHERE and yes.THAT was very ghetto and condescending ESPECIALLY after her miserably failed crappy school lunch initiative. The Hypocrite           \n",
       "9193     Endless but they really trash so none RT MENTIONHERE: Men: how many positive(s) and possibles do y'all have on fri thru sun night?                       \n",
       "23694    You NEED an iPhone to use their stupid watch? Apple is just grabbing people ankles and shaking the money out of rubes pockets.                           \n",
       "11900    If yer gonna continue to be a contrarian bitch... go die then. I've no time for such trifling!                                                           \n",
       "2727     MENTIONHERE get that degree first bitch                                                                                                                  \n",
       "22597    This old bitch with floppy tits riding on the elevator with me is nerping so bad                                                                         \n",
       "2988     MENTIONHERE I couldn't find the regular one faggot                                                                                                       \n",
       "17629    RT MENTIONHERE: Man, now these hoes know  EMOJIHERE  EMOJIHERE  EMOJIHERE  EMOJIHERE  #TheJigIsUp URLHERE                                                \n",
       "10026    Headed straight to the top bitch.                                                                                                                        \n",
       "13372    My homeboy got a hoe number on house arrest ... i said that's good she won't ask to go anywhere                                                          \n",
       "2652     MENTIONHERE bitch                                                                                                                                        \n",
       "1991      EMOJIHERE MENTIONHERE: On the east coast there's colored hair everywhere. \\n\\nThis must be the sweetest wave ever. EMOJIHERE  MENTIONHERE               \n",
       "18977    RT MENTIONHERE: MENTIONHERE so the ball did roll down the slope & found a natural spot MENTIONHERE defending brother & the scumbag MENTIONHERE EMOJIHERE \n",
       "Name: clean, dtype: object"
      ]
     },
     "execution_count": 19,
     "metadata": {},
     "output_type": "execute_result"
    }
   ],
   "source": [
    "df['clean'].sample(20, random_state=0)"
   ]
  },
  {
   "cell_type": "markdown",
   "metadata": {},
   "source": [
    "This looks much better (for hate speech). Now that we've cleaned it we'll save it and start generating some features for classification."
   ]
  },
  {
   "cell_type": "code",
   "execution_count": 20,
   "metadata": {},
   "outputs": [],
   "source": [
    "df.to_csv('clean.csv')"
   ]
  },
  {
   "cell_type": "code",
   "execution_count": null,
   "metadata": {},
   "outputs": [],
   "source": []
  }
 ],
 "metadata": {
  "kernelspec": {
   "display_name": "Python 3",
   "language": "python",
   "name": "python3"
  },
  "language_info": {
   "codemirror_mode": {
    "name": "ipython",
    "version": 3
   },
   "file_extension": ".py",
   "mimetype": "text/x-python",
   "name": "python",
   "nbconvert_exporter": "python",
   "pygments_lexer": "ipython3",
   "version": "3.6.7"
  }
 },
 "nbformat": 4,
 "nbformat_minor": 2
}
